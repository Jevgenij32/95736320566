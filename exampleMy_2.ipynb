{
 "cells": [
  {
   "cell_type": "code",
   "execution_count": null,
   "metadata": {},
   "outputs": [],
   "source": []
  },
  {
   "cell_type": "code",
   "execution_count": 15,
   "metadata": {},
   "outputs": [
    {
     "ename": "SyntaxError",
     "evalue": "expected ':' (2249740911.py, line 2)",
     "output_type": "error",
     "traceback": [
      "\u001b[1;36m  Cell \u001b[1;32mIn[15], line 2\u001b[1;36m\u001b[0m\n\u001b[1;33m    if number //2\u001b[0m\n\u001b[1;37m                 ^\u001b[0m\n\u001b[1;31mSyntaxError\u001b[0m\u001b[1;31m:\u001b[0m expected ':'\n"
     ]
    }
   ],
   "source": [
    "number = 5\n",
    "if number //2\n",
    "    print(tai lygonis )\n"
   ]
  },
  {
   "cell_type": "code",
   "execution_count": null,
   "metadata": {},
   "outputs": [
    {
     "name": "stdout",
     "output_type": "stream",
     "text": [
      "neliginis\n"
     ]
    }
   ],
   "source": [
    "number = 5\n",
    "if number % 2 == 0:\n",
    "    print(\"lyginis\")\n",
    "else:\n",
    "    print('neliginis')"
   ]
  },
  {
   "cell_type": "markdown",
   "metadata": {},
   "source": [
    "list"
   ]
  },
  {
   "cell_type": "code",
   "execution_count": null,
   "metadata": {},
   "outputs": [
    {
     "data": {
      "text/plain": [
       "2"
      ]
     },
     "execution_count": 5,
     "metadata": {},
     "output_type": "execute_result"
    }
   ],
   "source": [
    "my_list = ['1' , '2']\n",
    "len(my_list)"
   ]
  },
  {
   "cell_type": "markdown",
   "metadata": {},
   "source": [
    "My1"
   ]
  },
  {
   "cell_type": "code",
   "execution_count": 21,
   "metadata": {},
   "outputs": [
    {
     "ename": "SyntaxError",
     "evalue": "'(' was never closed (3546429676.py, line 7)",
     "output_type": "error",
     "traceback": [
      "\u001b[1;36m  Cell \u001b[1;32mIn[21], line 7\u001b[1;36m\u001b[0m\n\u001b[1;33m    print(\"pojmal - {pavadinimas}\"\u001b[0m\n\u001b[1;37m         ^\u001b[0m\n\u001b[1;31mSyntaxError\u001b[0m\u001b[1;31m:\u001b[0m '(' was never closed\n"
     ]
    }
   ],
   "source": [
    "Pavadinimas = \"ryba\"\n",
    "tip2 = \"okun\"\n",
    "tip1 = \"lesch\"\n",
    "tip3 = \"schuka\"\n",
    "amzius = 5\n",
    "ves = 2\n",
    "print(\"pojmal - {pavadinimas}\"\n",
    "\n",
    "      "
   ]
  },
  {
   "cell_type": "code",
   "execution_count": 26,
   "metadata": {},
   "outputs": [
    {
     "name": "stdout",
     "output_type": "stream",
     "text": [
      "Pojmal - lesch, 5 kg.\n"
     ]
    }
   ],
   "source": [
    "Pavadinimas = \"ryba\"\n",
    "tip1 = \"lesch\"\n",
    "ves = 5\n",
    "print( f\"Pojmal - {tip1}, {ves} kg.\")"
   ]
  },
  {
   "cell_type": "markdown",
   "metadata": {},
   "source": [
    "My2"
   ]
  },
  {
   "cell_type": "code",
   "execution_count": 29,
   "metadata": {},
   "outputs": [
    {
     "name": "stdout",
     "output_type": "stream",
     "text": [
      "ryba[::-1] - 2abyr\n"
     ]
    }
   ],
   "source": [
    "pavadinimas = \"ryba2\"\n",
    "print('ryba[::-1] -', pavadinimas[::-1] )"
   ]
  },
  {
   "cell_type": "code",
   "execution_count": 56,
   "metadata": {},
   "outputs": [
    {
     "name": "stdout",
     "output_type": "stream",
     "text": [
      "0\n"
     ]
    }
   ],
   "source": [
    "print ('Ryba' .find(str(\"R\")))"
   ]
  },
  {
   "cell_type": "markdown",
   "metadata": {},
   "source": [
    "My3"
   ]
  },
  {
   "cell_type": "code",
   "execution_count": 107,
   "metadata": {},
   "outputs": [
    {
     "name": "stdout",
     "output_type": "stream",
     "text": [
      "7 5\n",
      "Tikimės sėkmingo tolimesnio bendradarbiavimo!\n",
      "0\n",
      "is\n"
     ]
    }
   ],
   "source": [
    "text = \"Tikimės sėkmingo tolimesnio bendradarbiavimo!\"\n",
    "specific_symbol = \"i\"\n",
    "print (text .count(specific_symbol), int(5))\n",
    "print (text)\n",
    "print (text .index(\"T\"))\n",
    "x = slice(3, 9, 3)\n",
    "print  (text[x])"
   ]
  },
  {
   "cell_type": "code",
   "execution_count": 81,
   "metadata": {},
   "outputs": [
    {
     "name": "stdout",
     "output_type": "stream",
     "text": [
      "('d', 'e')\n"
     ]
    }
   ],
   "source": [
    "a = (\"a\", \"b\", \"c\", \"d\", \"e\", \"f\", \"g\", \"h\")\n",
    "x = slice(3, 5)\n",
    "print(a[x])"
   ]
  },
  {
   "cell_type": "code",
   "execution_count": 103,
   "metadata": {},
   "outputs": [
    {
     "name": "stdout",
     "output_type": "stream",
     "text": [
      "('a', 'd', 'g')\n"
     ]
    }
   ],
   "source": [
    "a = (\"a\", \"b\", \"c\", \"d\", \"e\", \"f\", \"g\", \"h\")\n",
    "x = slice(0, 8, 3)\n",
    "print(a[x])"
   ]
  },
  {
   "cell_type": "code",
   "execution_count": 109,
   "metadata": {},
   "outputs": [
    {
     "ename": "SyntaxError",
     "evalue": "invalid syntax (3079000711.py, line 2)",
     "output_type": "error",
     "traceback": [
      "\u001b[1;36m  Cell \u001b[1;32mIn[109], line 2\u001b[1;36m\u001b[0m\n\u001b[1;33m    print (a, .replace('l', '', 1)\u001b[0m\n\u001b[1;37m              ^\u001b[0m\n\u001b[1;31mSyntaxError\u001b[0m\u001b[1;31m:\u001b[0m invalid syntax\n"
     ]
    }
   ],
   "source": [
    "a = 'Hello'\n",
    "print (a, .replace('l', '', 1)"
   ]
  },
  {
   "cell_type": "markdown",
   "metadata": {},
   "source": [
    "lesson2"
   ]
  },
  {
   "cell_type": "code",
   "execution_count": 110,
   "metadata": {},
   "outputs": [
    {
     "ename": "NameError",
     "evalue": "name 'Number1' is not defined",
     "output_type": "error",
     "traceback": [
      "\u001b[1;31m---------------------------------------------------------------------------\u001b[0m",
      "\u001b[1;31mNameError\u001b[0m                                 Traceback (most recent call last)",
      "\u001b[1;32mc:\\install\\Project\\95736320566\\exampleMy.ipynb Cell 18\u001b[0m line \u001b[0;36m3\n\u001b[0;32m      <a href='vscode-notebook-cell:/c%3A/install/Project/95736320566/exampleMy.ipynb#X41sZmlsZQ%3D%3D?line=0'>1</a>\u001b[0m Zeme_Menulis \u001b[39m=\u001b[39m \u001b[39m384\u001b[39m,\u001b[39m000\u001b[39m\n\u001b[0;32m      <a href='vscode-notebook-cell:/c%3A/install/Project/95736320566/exampleMy.ipynb#X41sZmlsZQ%3D%3D?line=1'>2</a>\u001b[0m Zeme_Saule \u001b[39m=\u001b[39m \u001b[39m150\u001b[39m,\u001b[39m000\u001b[39m,\u001b[39m000\u001b[39m\n\u001b[1;32m----> <a href='vscode-notebook-cell:/c%3A/install/Project/95736320566/exampleMy.ipynb#X41sZmlsZQ%3D%3D?line=2'>3</a>\u001b[0m \u001b[39mprint\u001b[39m(\u001b[39mf\u001b[39m\u001b[39m'\u001b[39m\u001b[39matstumas iki Saules = \u001b[39m\u001b[39m{\u001b[39;00mNumber1\u001b[39m \u001b[39m\u001b[39m/\u001b[39m\u001b[39m/\u001b[39m\u001b[39m \u001b[39mnumber3\u001b[39m}\u001b[39;00m\u001b[39m kart daugiau\u001b[39m\u001b[39m'\u001b[39m)\n",
      "\u001b[1;31mNameError\u001b[0m: name 'Number1' is not defined"
     ]
    }
   ],
   "source": [
    "Zeme_Menulis = 384,000\n",
    "Zeme_Saule = 150,000,000\n",
    "print(f'atstumas iki Saules = {Number1 // number3} kart daugiau')"
   ]
  },
  {
   "cell_type": "markdown",
   "metadata": {},
   "source": [
    "## 5 lesson"
   ]
  },
  {
   "cell_type": "code",
   "execution_count": null,
   "metadata": {},
   "outputs": [],
   "source": [
    "numbers = [10,11,12,13,14,15,16,17,18,19]\n",
    "dienos = [pirmadienis, antradienis, treciadienis, ketvirtadienis, penktadienis]\n",
    "for number in range numbers:\n",
    "    print\n"
   ]
  },
  {
   "cell_type": "markdown",
   "metadata": {},
   "source": [
    "Darius"
   ]
  },
  {
   "cell_type": "code",
   "execution_count": null,
   "metadata": {},
   "outputs": [],
   "source": [
    "for idx, city in enumerate( cities ):\n",
    "    print (f'{city} yra nuostabus miestas! Jo indeksas yra {idx}' )\n",
    "    print(\"vieno ciklo pabaiga\")\n",
    "cities = [  'Vilnius', 'Kaunas', 'Klaipeda', 'Siauliai']\n",
    "\n",
    "# for <any_name> in <list/sequence>:\n",
    "for city in cities:\n",
    "    print (f'{city} yra nuostabus miestas!')\n",
    "    print(\"vieno ciklo pabaiga\")"
   ]
  },
  {
   "cell_type": "markdown",
   "metadata": {},
   "source": [
    "##Lesson 6"
   ]
  },
  {
   "cell_type": "markdown",
   "metadata": {},
   "source": [
    "Tuple"
   ]
  },
  {
   "cell_type": "code",
   "execution_count": 119,
   "metadata": {},
   "outputs": [
    {
     "name": "stdout",
     "output_type": "stream",
     "text": [
      "[6, [7, 8]]\n",
      "8\n"
     ]
    }
   ],
   "source": [
    "my_tuple = (1, 2, ['3', 4, 5], [6, [7, (8)]])\n",
    "print (my_tuple[-1])\n",
    "print (my_tuple[-1][-1][1])"
   ]
  },
  {
   "cell_type": "markdown",
   "metadata": {},
   "source": []
  },
  {
   "cell_type": "code",
   "execution_count": 123,
   "metadata": {},
   "outputs": [
    {
     "name": "stdout",
     "output_type": "stream",
     "text": [
      "[(11, [222, 33], 44, 55)]\n"
     ]
    }
   ],
   "source": [
    "my_tuple = (11, [222, 33], 44, 55)\n",
    "\n",
    "print ([my_tuple])"
   ]
  },
  {
   "cell_type": "markdown",
   "metadata": {},
   "source": [
    "pvz"
   ]
  },
  {
   "cell_type": "code",
   "execution_count": 115,
   "metadata": {},
   "outputs": [
    {
     "ename": "SyntaxError",
     "evalue": "expected ':' (46513830.py, line 2)",
     "output_type": "error",
     "traceback": [
      "\u001b[1;36m  Cell \u001b[1;32mIn[115], line 2\u001b[1;36m\u001b[0m\n\u001b[1;33m    for number in numbers\u001b[0m\n\u001b[1;37m                         ^\u001b[0m\n\u001b[1;31mSyntaxError\u001b[0m\u001b[1;31m:\u001b[0m expected ':'\n"
     ]
    }
   ],
   "source": [
    "numbers = range (0,11)\n",
    "for number in numbers\n",
    "print(number)"
   ]
  },
  {
   "cell_type": "markdown",
   "metadata": {},
   "source": [
    "##Dictionary"
   ]
  },
  {
   "cell_type": "code",
   "execution_count": null,
   "metadata": {},
   "outputs": [],
   "source": []
  },
  {
   "cell_type": "markdown",
   "metadata": {},
   "source": []
  },
  {
   "cell_type": "code",
   "execution_count": null,
   "metadata": {},
   "outputs": [],
   "source": []
  },
  {
   "cell_type": "markdown",
   "metadata": {},
   "source": [
    "##Zadanie"
   ]
  },
  {
   "cell_type": "code",
   "execution_count": 128,
   "metadata": {},
   "outputs": [
    {
     "ename": "SyntaxError",
     "evalue": "invalid syntax. Perhaps you forgot a comma? (3397251169.py, line 26)",
     "output_type": "error",
     "traceback": [
      "\u001b[1;36m  Cell \u001b[1;32mIn[128], line 26\u001b[1;36m\u001b[0m\n\u001b[1;33m    print (witter_post['use'][])\u001b[0m\n\u001b[1;37m           ^\u001b[0m\n\u001b[1;31mSyntaxError\u001b[0m\u001b[1;31m:\u001b[0m invalid syntax. Perhaps you forgot a comma?\n"
     ]
    }
   ],
   "source": [
    "witter_post = {\n",
    "  \"created_at\": \"Tue Feb 27 21:11:40 +0000 2018\",\n",
    "  \"id\": 968594506663669800,\n",
    "  \"text\": \"RT @honeydrop_506: 180222 ICN #백현 #BAEKHYUNnn나의 겨울과 너nn#iHeartAwards #BestFanArmy #EXOL @weareoneEXO https://t.co/hg7I3xAlBg\",\n",
    "  \"in_reply_to_screen_name\": None,\n",
    "  \"user\": {\n",
    "    \"id\": 4448809940,\n",
    "    \"id_str\": \"4448809940\",\n",
    "    \"name\": \"ayah\",\n",
    "    \"screen_name\": \"lovbyun\",\n",
    "    \"location\": \"bbh iu jjh pcy kjd dks\",\n",
    "    \"url\": \"https://curiouscat.me/baekhyun-l\",\n",
    "    \"description\": \"hi hello I love exo\",\n",
    "    \"followers_count\": 1142,\n",
    "    \"friends_count\": 125,\n",
    "    \"listed_count\": 20,\n",
    "    \"favourites_count\": 5712,\n",
    "    \"statuses_count\": 4011,\n",
    "    \"utc_offset\": -28800,\n",
    "    \"lang\": \"en\",\n",
    "    \"profile_background_image_url_https\": \"https://abs.twimg.com/images/themes/theme1/bg.png\",\n",
    "    \"profile_image_url\": \"http://pbs.twimg.com/profile_images/967130320259526656/0xZ-wxXJ_normal.jpg\",\n",
    "    \"notifications\": None\n",
    "  },\n",
    "}\n",
    "print (witter_post['use'][])"
   ]
  }
 ],
 "metadata": {
  "kernelspec": {
   "display_name": "Python 3",
   "language": "python",
   "name": "python3"
  },
  "language_info": {
   "codemirror_mode": {
    "name": "ipython",
    "version": 3
   },
   "file_extension": ".py",
   "mimetype": "text/x-python",
   "name": "python",
   "nbconvert_exporter": "python",
   "pygments_lexer": "ipython3",
   "version": "3.10.2"
  }
 },
 "nbformat": 4,
 "nbformat_minor": 2
}
